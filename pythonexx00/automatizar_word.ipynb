{
 "cells": [
  {
   "cell_type": "code",
   "execution_count": 2,
   "metadata": {},
   "outputs": [
    {
     "name": "stdout",
     "output_type": "stream",
     "text": [
      "\u001b[33mWARNING: You are using pip version 21.2.4; however, version 25.1.1 is available.\n",
      "You should consider upgrading via the '/Library/Developer/CommandLineTools/usr/bin/python3 -m pip install --upgrade pip' command.\u001b[0m\n",
      "Note: you may need to restart the kernel to use updated packages.\n"
     ]
    }
   ],
   "source": [
    "%pip install docxtpl -q\n"
   ]
  },
  {
   "cell_type": "code",
   "execution_count": 2,
   "metadata": {},
   "outputs": [
    {
     "name": "stdout",
     "output_type": "stream",
     "text": [
      "Defaulting to user installation because normal site-packages is not writeable\n",
      "Collecting pandas\n",
      "  Downloading pandas-2.3.0-cp39-cp39-macosx_11_0_arm64.whl (10.8 MB)\n",
      "\u001b[K     |████████████████████████████████| 10.8 MB 1.8 MB/s eta 0:00:01\n",
      "\u001b[?25hCollecting numpy>=1.22.4\n",
      "  Downloading numpy-2.0.2-cp39-cp39-macosx_14_0_arm64.whl (5.3 MB)\n",
      "\u001b[K     |████████████████████████████████| 5.3 MB 58.5 MB/s eta 0:00:01\n",
      "\u001b[?25hRequirement already satisfied: python-dateutil>=2.8.2 in /Users/nicolemantillafernandez/Library/Python/3.9/lib/python/site-packages (from pandas) (2.9.0.post0)\n",
      "Collecting pytz>=2020.1\n",
      "  Downloading pytz-2025.2-py2.py3-none-any.whl (509 kB)\n",
      "\u001b[K     |████████████████████████████████| 509 kB 22.9 MB/s eta 0:00:01\n",
      "\u001b[?25hCollecting tzdata>=2022.7\n",
      "  Downloading tzdata-2025.2-py2.py3-none-any.whl (347 kB)\n",
      "\u001b[K     |████████████████████████████████| 347 kB 70.7 MB/s eta 0:00:01\n",
      "\u001b[?25hRequirement already satisfied: six>=1.5 in /Library/Developer/CommandLineTools/Library/Frameworks/Python3.framework/Versions/3.9/lib/python3.9/site-packages (from python-dateutil>=2.8.2->pandas) (1.15.0)\n",
      "Installing collected packages: tzdata, pytz, numpy, pandas\n",
      "Successfully installed numpy-2.0.2 pandas-2.3.0 pytz-2025.2 tzdata-2025.2\n",
      "\u001b[33mWARNING: You are using pip version 21.2.4; however, version 25.1.1 is available.\n",
      "You should consider upgrading via the '/Library/Developer/CommandLineTools/usr/bin/python3 -m pip install --upgrade pip' command.\u001b[0m\n",
      "Note: you may need to restart the kernel to use updated packages.\n"
     ]
    }
   ],
   "source": [
    "%pip install pandas\n"
   ]
  },
  {
   "cell_type": "code",
   "execution_count": 4,
   "metadata": {},
   "outputs": [],
   "source": [
    "import pandas as pd\n",
    "from datetime import datetime\n",
    "from docxtpl import DocxTemplate\n"
   ]
  },
  {
   "cell_type": "code",
   "execution_count": 36,
   "metadata": {},
   "outputs": [],
   "source": [
    "doc = DocxTemplate(\"plantilla.docx\")"
   ]
  },
  {
   "cell_type": "code",
   "execution_count": 37,
   "metadata": {},
   "outputs": [],
   "source": [
    "nombre = \"Nicole Mantilla\"\n",
    "telefono = \"609654290\"\n",
    "correo = \"nicole@gmail.com\"\n",
    "fecha = datetime.today().strftime(\"%d/%m/%Y\")"
   ]
  },
  {
   "cell_type": "code",
   "execution_count": 38,
   "metadata": {},
   "outputs": [
    {
     "name": "stdout",
     "output_type": "stream",
     "text": [
      "18/06/2025\n"
     ]
    }
   ],
   "source": [
    "print(fecha)"
   ]
  },
  {
   "cell_type": "code",
   "execution_count": 39,
   "metadata": {},
   "outputs": [],
   "source": [
    "constantes = {'nombre': nombre, 'telefono': telefono, 'correo': correo, 'fecha': fecha}"
   ]
  },
  {
   "cell_type": "code",
   "execution_count": 40,
   "metadata": {},
   "outputs": [
    {
     "name": "stdout",
     "output_type": "stream",
     "text": [
      "{'nombre': 'Nicole Mantilla', 'telefono': '609654290', 'correo': 'nicole@gmail.com', 'fecha': '18/06/2025'}\n"
     ]
    }
   ],
   "source": [
    "print(constantes)"
   ]
  },
  {
   "cell_type": "code",
   "execution_count": 41,
   "metadata": {},
   "outputs": [],
   "source": [
    "doc.render(constantes)\n",
    "doc.save(f\"prueba.docx\")"
   ]
  },
  {
   "cell_type": "code",
   "execution_count": 12,
   "metadata": {},
   "outputs": [
    {
     "name": "stdout",
     "output_type": "stream",
     "text": [
      "Defaulting to user installation because normal site-packages is not writeable\n",
      "Collecting openpyxl\n",
      "  Downloading openpyxl-3.1.5-py2.py3-none-any.whl (250 kB)\n",
      "\u001b[K     |████████████████████████████████| 250 kB 2.0 MB/s eta 0:00:01\n",
      "\u001b[?25hCollecting et-xmlfile\n",
      "  Downloading et_xmlfile-2.0.0-py3-none-any.whl (18 kB)\n",
      "Installing collected packages: et-xmlfile, openpyxl\n",
      "Successfully installed et-xmlfile-2.0.0 openpyxl-3.1.5\n",
      "\u001b[33mWARNING: You are using pip version 21.2.4; however, version 25.1.1 is available.\n",
      "You should consider upgrading via the '/Library/Developer/CommandLineTools/usr/bin/python3 -m pip install --upgrade pip' command.\u001b[0m\n",
      "Note: you may need to restart the kernel to use updated packages.\n"
     ]
    }
   ],
   "source": [
    "%pip install openpyxl\n"
   ]
  },
  {
   "cell_type": "code",
   "execution_count": 42,
   "metadata": {},
   "outputs": [],
   "source": [
    "df = pd.read_excel('notas_alumnos.xlsx')"
   ]
  },
  {
   "cell_type": "code",
   "execution_count": 43,
   "metadata": {},
   "outputs": [
    {
     "data": {
      "text/html": [
       "<div>\n",
       "<style scoped>\n",
       "    .dataframe tbody tr th:only-of-type {\n",
       "        vertical-align: middle;\n",
       "    }\n",
       "\n",
       "    .dataframe tbody tr th {\n",
       "        vertical-align: top;\n",
       "    }\n",
       "\n",
       "    .dataframe thead th {\n",
       "        text-align: right;\n",
       "    }\n",
       "</style>\n",
       "<table border=\"1\" class=\"dataframe\">\n",
       "  <thead>\n",
       "    <tr style=\"text-align: right;\">\n",
       "      <th></th>\n",
       "      <th>Nombre del alumno</th>\n",
       "      <th>Mat</th>\n",
       "      <th>fisica</th>\n",
       "      <th>quimica</th>\n",
       "    </tr>\n",
       "  </thead>\n",
       "  <tbody>\n",
       "    <tr>\n",
       "      <th>0</th>\n",
       "      <td>Juan Perez</td>\n",
       "      <td>6.1</td>\n",
       "      <td>6.0</td>\n",
       "      <td>6.4</td>\n",
       "    </tr>\n",
       "    <tr>\n",
       "      <th>1</th>\n",
       "      <td>Ana Soto</td>\n",
       "      <td>6.2</td>\n",
       "      <td>5.7</td>\n",
       "      <td>6.2</td>\n",
       "    </tr>\n",
       "    <tr>\n",
       "      <th>2</th>\n",
       "      <td>Luis Rodriguez</td>\n",
       "      <td>5.6</td>\n",
       "      <td>6.0</td>\n",
       "      <td>6.4</td>\n",
       "    </tr>\n",
       "    <tr>\n",
       "      <th>3</th>\n",
       "      <td>Maria Gonzalez</td>\n",
       "      <td>6.4</td>\n",
       "      <td>6.1</td>\n",
       "      <td>6.2</td>\n",
       "    </tr>\n",
       "    <tr>\n",
       "      <th>4</th>\n",
       "      <td>Sofía Ruiz</td>\n",
       "      <td>5.8</td>\n",
       "      <td>5.7</td>\n",
       "      <td>6.4</td>\n",
       "    </tr>\n",
       "    <tr>\n",
       "      <th>5</th>\n",
       "      <td>Lucas Méndez</td>\n",
       "      <td>6.3</td>\n",
       "      <td>6.1</td>\n",
       "      <td>5.8</td>\n",
       "    </tr>\n",
       "    <tr>\n",
       "      <th>6</th>\n",
       "      <td>Isabel Paredes</td>\n",
       "      <td>6.1</td>\n",
       "      <td>6.4</td>\n",
       "      <td>6.0</td>\n",
       "    </tr>\n",
       "    <tr>\n",
       "      <th>7</th>\n",
       "      <td>Daniel Castillo</td>\n",
       "      <td>5.6</td>\n",
       "      <td>5.8</td>\n",
       "      <td>6.4</td>\n",
       "    </tr>\n",
       "    <tr>\n",
       "      <th>8</th>\n",
       "      <td>Fernanda Herrera</td>\n",
       "      <td>5.7</td>\n",
       "      <td>6.2</td>\n",
       "      <td>6.0</td>\n",
       "    </tr>\n",
       "  </tbody>\n",
       "</table>\n",
       "</div>"
      ],
      "text/plain": [
       "   Nombre del alumno  Mat  fisica  quimica\n",
       "0        Juan Perez   6.1     6.0      6.4\n",
       "1          Ana Soto   6.2     5.7      6.2\n",
       "2     Luis Rodriguez  5.6     6.0      6.4\n",
       "3     Maria Gonzalez  6.4     6.1      6.2\n",
       "4         Sofía Ruiz  5.8     5.7      6.4\n",
       "5       Lucas Méndez  6.3     6.1      5.8\n",
       "6     Isabel Paredes  6.1     6.4      6.0\n",
       "7    Daniel Castillo  5.6     5.8      6.4\n",
       "8  Fernanda Herrera   5.7     6.2      6.0"
      ]
     },
     "execution_count": 43,
     "metadata": {},
     "output_type": "execute_result"
    }
   ],
   "source": [
    "df"
   ]
  },
  {
   "cell_type": "code",
   "execution_count": 44,
   "metadata": {},
   "outputs": [],
   "source": [
    "df = pd.read_excel('notas_alumnos.xlsx')"
   ]
  },
  {
   "cell_type": "code",
   "execution_count": 45,
   "metadata": {},
   "outputs": [
    {
     "data": {
      "text/html": [
       "<div>\n",
       "<style scoped>\n",
       "    .dataframe tbody tr th:only-of-type {\n",
       "        vertical-align: middle;\n",
       "    }\n",
       "\n",
       "    .dataframe tbody tr th {\n",
       "        vertical-align: top;\n",
       "    }\n",
       "\n",
       "    .dataframe thead th {\n",
       "        text-align: right;\n",
       "    }\n",
       "</style>\n",
       "<table border=\"1\" class=\"dataframe\">\n",
       "  <thead>\n",
       "    <tr style=\"text-align: right;\">\n",
       "      <th></th>\n",
       "      <th>Nombre del alumno</th>\n",
       "      <th>Mat</th>\n",
       "      <th>fisica</th>\n",
       "      <th>quimica</th>\n",
       "    </tr>\n",
       "  </thead>\n",
       "  <tbody>\n",
       "    <tr>\n",
       "      <th>0</th>\n",
       "      <td>Juan Perez</td>\n",
       "      <td>6.1</td>\n",
       "      <td>6.0</td>\n",
       "      <td>6.4</td>\n",
       "    </tr>\n",
       "    <tr>\n",
       "      <th>1</th>\n",
       "      <td>Ana Soto</td>\n",
       "      <td>6.2</td>\n",
       "      <td>5.7</td>\n",
       "      <td>6.2</td>\n",
       "    </tr>\n",
       "    <tr>\n",
       "      <th>2</th>\n",
       "      <td>Luis Rodriguez</td>\n",
       "      <td>5.6</td>\n",
       "      <td>6.0</td>\n",
       "      <td>6.4</td>\n",
       "    </tr>\n",
       "    <tr>\n",
       "      <th>3</th>\n",
       "      <td>Maria Gonzalez</td>\n",
       "      <td>6.4</td>\n",
       "      <td>6.1</td>\n",
       "      <td>6.2</td>\n",
       "    </tr>\n",
       "    <tr>\n",
       "      <th>4</th>\n",
       "      <td>Sofía Ruiz</td>\n",
       "      <td>5.8</td>\n",
       "      <td>5.7</td>\n",
       "      <td>6.4</td>\n",
       "    </tr>\n",
       "    <tr>\n",
       "      <th>5</th>\n",
       "      <td>Lucas Méndez</td>\n",
       "      <td>6.3</td>\n",
       "      <td>6.1</td>\n",
       "      <td>5.8</td>\n",
       "    </tr>\n",
       "    <tr>\n",
       "      <th>6</th>\n",
       "      <td>Isabel Paredes</td>\n",
       "      <td>6.1</td>\n",
       "      <td>6.4</td>\n",
       "      <td>6.0</td>\n",
       "    </tr>\n",
       "    <tr>\n",
       "      <th>7</th>\n",
       "      <td>Daniel Castillo</td>\n",
       "      <td>5.6</td>\n",
       "      <td>5.8</td>\n",
       "      <td>6.4</td>\n",
       "    </tr>\n",
       "    <tr>\n",
       "      <th>8</th>\n",
       "      <td>Fernanda Herrera</td>\n",
       "      <td>5.7</td>\n",
       "      <td>6.2</td>\n",
       "      <td>6.0</td>\n",
       "    </tr>\n",
       "  </tbody>\n",
       "</table>\n",
       "</div>"
      ],
      "text/plain": [
       "   Nombre del alumno  Mat  fisica  quimica\n",
       "0        Juan Perez   6.1     6.0      6.4\n",
       "1          Ana Soto   6.2     5.7      6.2\n",
       "2     Luis Rodriguez  5.6     6.0      6.4\n",
       "3     Maria Gonzalez  6.4     6.1      6.2\n",
       "4         Sofía Ruiz  5.8     5.7      6.4\n",
       "5       Lucas Méndez  6.3     6.1      5.8\n",
       "6     Isabel Paredes  6.1     6.4      6.0\n",
       "7    Daniel Castillo  5.6     5.8      6.4\n",
       "8  Fernanda Herrera   5.7     6.2      6.0"
      ]
     },
     "execution_count": 45,
     "metadata": {},
     "output_type": "execute_result"
    }
   ],
   "source": [
    "df"
   ]
  },
  {
   "cell_type": "code",
   "execution_count": 17,
   "metadata": {},
   "outputs": [],
   "source": [
    "df = pd.read_excel('notas_alumnos.xlsx')\n"
   ]
  },
  {
   "cell_type": "code",
   "execution_count": 46,
   "metadata": {},
   "outputs": [
    {
     "data": {
      "text/html": [
       "<div>\n",
       "<style scoped>\n",
       "    .dataframe tbody tr th:only-of-type {\n",
       "        vertical-align: middle;\n",
       "    }\n",
       "\n",
       "    .dataframe tbody tr th {\n",
       "        vertical-align: top;\n",
       "    }\n",
       "\n",
       "    .dataframe thead th {\n",
       "        text-align: right;\n",
       "    }\n",
       "</style>\n",
       "<table border=\"1\" class=\"dataframe\">\n",
       "  <thead>\n",
       "    <tr style=\"text-align: right;\">\n",
       "      <th></th>\n",
       "      <th>Nombre del alumno</th>\n",
       "      <th>Mat</th>\n",
       "      <th>fisica</th>\n",
       "      <th>quimica</th>\n",
       "    </tr>\n",
       "  </thead>\n",
       "  <tbody>\n",
       "    <tr>\n",
       "      <th>0</th>\n",
       "      <td>Juan Perez</td>\n",
       "      <td>6.1</td>\n",
       "      <td>6.0</td>\n",
       "      <td>6.4</td>\n",
       "    </tr>\n",
       "    <tr>\n",
       "      <th>1</th>\n",
       "      <td>Ana Soto</td>\n",
       "      <td>6.2</td>\n",
       "      <td>5.7</td>\n",
       "      <td>6.2</td>\n",
       "    </tr>\n",
       "    <tr>\n",
       "      <th>2</th>\n",
       "      <td>Luis Rodriguez</td>\n",
       "      <td>5.6</td>\n",
       "      <td>6.0</td>\n",
       "      <td>6.4</td>\n",
       "    </tr>\n",
       "    <tr>\n",
       "      <th>3</th>\n",
       "      <td>Maria Gonzalez</td>\n",
       "      <td>6.4</td>\n",
       "      <td>6.1</td>\n",
       "      <td>6.2</td>\n",
       "    </tr>\n",
       "    <tr>\n",
       "      <th>4</th>\n",
       "      <td>Sofía Ruiz</td>\n",
       "      <td>5.8</td>\n",
       "      <td>5.7</td>\n",
       "      <td>6.4</td>\n",
       "    </tr>\n",
       "    <tr>\n",
       "      <th>5</th>\n",
       "      <td>Lucas Méndez</td>\n",
       "      <td>6.3</td>\n",
       "      <td>6.1</td>\n",
       "      <td>5.8</td>\n",
       "    </tr>\n",
       "    <tr>\n",
       "      <th>6</th>\n",
       "      <td>Isabel Paredes</td>\n",
       "      <td>6.1</td>\n",
       "      <td>6.4</td>\n",
       "      <td>6.0</td>\n",
       "    </tr>\n",
       "    <tr>\n",
       "      <th>7</th>\n",
       "      <td>Daniel Castillo</td>\n",
       "      <td>5.6</td>\n",
       "      <td>5.8</td>\n",
       "      <td>6.4</td>\n",
       "    </tr>\n",
       "    <tr>\n",
       "      <th>8</th>\n",
       "      <td>Fernanda Herrera</td>\n",
       "      <td>5.7</td>\n",
       "      <td>6.2</td>\n",
       "      <td>6.0</td>\n",
       "    </tr>\n",
       "  </tbody>\n",
       "</table>\n",
       "</div>"
      ],
      "text/plain": [
       "   Nombre del alumno  Mat  fisica  quimica\n",
       "0        Juan Perez   6.1     6.0      6.4\n",
       "1          Ana Soto   6.2     5.7      6.2\n",
       "2     Luis Rodriguez  5.6     6.0      6.4\n",
       "3     Maria Gonzalez  6.4     6.1      6.2\n",
       "4         Sofía Ruiz  5.8     5.7      6.4\n",
       "5       Lucas Méndez  6.3     6.1      5.8\n",
       "6     Isabel Paredes  6.1     6.4      6.0\n",
       "7    Daniel Castillo  5.6     5.8      6.4\n",
       "8  Fernanda Herrera   5.7     6.2      6.0"
      ]
     },
     "execution_count": 46,
     "metadata": {},
     "output_type": "execute_result"
    }
   ],
   "source": [
    "df"
   ]
  },
  {
   "cell_type": "code",
   "execution_count": 47,
   "metadata": {},
   "outputs": [
    {
     "name": "stdout",
     "output_type": "stream",
     "text": [
      "Nombre del alumno    Juan Perez \n",
      "Mat                          6.1\n",
      "fisica                       6.0\n",
      "quimica                      6.4\n",
      "Name: 0, dtype: object\n",
      "Nombre del alumno    Ana Soto \n",
      "Mat                        6.2\n",
      "fisica                     5.7\n",
      "quimica                    6.2\n",
      "Name: 1, dtype: object\n",
      "Nombre del alumno    Luis Rodriguez\n",
      "Mat                             5.6\n",
      "fisica                          6.0\n",
      "quimica                         6.4\n",
      "Name: 2, dtype: object\n",
      "Nombre del alumno    Maria Gonzalez\n",
      "Mat                             6.4\n",
      "fisica                          6.1\n",
      "quimica                         6.2\n",
      "Name: 3, dtype: object\n",
      "Nombre del alumno    Sofía Ruiz\n",
      "Mat                         5.8\n",
      "fisica                      5.7\n",
      "quimica                     6.4\n",
      "Name: 4, dtype: object\n",
      "Nombre del alumno    Lucas Méndez\n",
      "Mat                           6.3\n",
      "fisica                        6.1\n",
      "quimica                       5.8\n",
      "Name: 5, dtype: object\n",
      "Nombre del alumno    Isabel Paredes\n",
      "Mat                             6.1\n",
      "fisica                          6.4\n",
      "quimica                         6.0\n",
      "Name: 6, dtype: object\n",
      "Nombre del alumno    Daniel Castillo\n",
      "Mat                              5.6\n",
      "fisica                           5.8\n",
      "quimica                          6.4\n",
      "Name: 7, dtype: object\n",
      "Nombre del alumno    Fernanda Herrera \n",
      "Mat                                5.7\n",
      "fisica                             6.2\n",
      "quimica                            6.0\n",
      "Name: 8, dtype: object\n"
     ]
    }
   ],
   "source": [
    "for indice, fila in df.iterrows():\n",
    "\tprint(fila)"
   ]
  },
  {
   "cell_type": "code",
   "execution_count": 48,
   "metadata": {},
   "outputs": [
    {
     "name": "stdout",
     "output_type": "stream",
     "text": [
      "{'nombre_alumno': 'Juan Perez ', 'nota_mat': 6.1, 'nota_fisica': 6.0, 'nota_quimica': 6.4, 'nombre': 'Nicole Mantilla', 'telefono': '609654290', 'correo': 'nicole@gmail.com', 'fecha': '18/06/2025'}\n",
      "{'nombre_alumno': 'Ana Soto ', 'nota_mat': 6.2, 'nota_fisica': 5.7, 'nota_quimica': 6.2, 'nombre': 'Nicole Mantilla', 'telefono': '609654290', 'correo': 'nicole@gmail.com', 'fecha': '18/06/2025'}\n",
      "{'nombre_alumno': 'Luis Rodriguez', 'nota_mat': 5.6, 'nota_fisica': 6.0, 'nota_quimica': 6.4, 'nombre': 'Nicole Mantilla', 'telefono': '609654290', 'correo': 'nicole@gmail.com', 'fecha': '18/06/2025'}\n",
      "{'nombre_alumno': 'Maria Gonzalez', 'nota_mat': 6.4, 'nota_fisica': 6.1, 'nota_quimica': 6.2, 'nombre': 'Nicole Mantilla', 'telefono': '609654290', 'correo': 'nicole@gmail.com', 'fecha': '18/06/2025'}\n",
      "{'nombre_alumno': 'Sofía Ruiz', 'nota_mat': 5.8, 'nota_fisica': 5.7, 'nota_quimica': 6.4, 'nombre': 'Nicole Mantilla', 'telefono': '609654290', 'correo': 'nicole@gmail.com', 'fecha': '18/06/2025'}\n",
      "{'nombre_alumno': 'Lucas Méndez', 'nota_mat': 6.3, 'nota_fisica': 6.1, 'nota_quimica': 5.8, 'nombre': 'Nicole Mantilla', 'telefono': '609654290', 'correo': 'nicole@gmail.com', 'fecha': '18/06/2025'}\n",
      "{'nombre_alumno': 'Isabel Paredes', 'nota_mat': 6.1, 'nota_fisica': 6.4, 'nota_quimica': 6.0, 'nombre': 'Nicole Mantilla', 'telefono': '609654290', 'correo': 'nicole@gmail.com', 'fecha': '18/06/2025'}\n",
      "{'nombre_alumno': 'Daniel Castillo', 'nota_mat': 5.6, 'nota_fisica': 5.8, 'nota_quimica': 6.4, 'nombre': 'Nicole Mantilla', 'telefono': '609654290', 'correo': 'nicole@gmail.com', 'fecha': '18/06/2025'}\n",
      "{'nombre_alumno': 'Fernanda Herrera ', 'nota_mat': 5.7, 'nota_fisica': 6.2, 'nota_quimica': 6.0, 'nombre': 'Nicole Mantilla', 'telefono': '609654290', 'correo': 'nicole@gmail.com', 'fecha': '18/06/2025'}\n"
     ]
    }
   ],
   "source": [
    "for indice, fila in df.iterrows():\n",
    "\tcontenido = {'nombre_alumno': fila[\"Nombre del alumno\"], 'nota_mat': fila[\"Mat\"], 'nota_fisica': fila[\"fisica\"], 'nota_quimica': fila[\"quimica\"]}\n",
    "\tcontenido.update(constantes)\n",
    "\tdoc.render(contenido)\n",
    "\tdoc.save(f\"notas_de_{fila['Nombre del alumno']}.docx\")\n",
    "\tprint(contenido)"
   ]
  }
 ],
 "metadata": {
  "kernelspec": {
   "display_name": "Python 3",
   "language": "python",
   "name": "python3"
  },
  "language_info": {
   "codemirror_mode": {
    "name": "ipython",
    "version": 3
   },
   "file_extension": ".py",
   "mimetype": "text/x-python",
   "name": "python",
   "nbconvert_exporter": "python",
   "pygments_lexer": "ipython3",
   "version": "3.9.6"
  }
 },
 "nbformat": 4,
 "nbformat_minor": 2
}
